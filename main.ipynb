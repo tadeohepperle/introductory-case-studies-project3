{
 "cells": [
  {
   "cell_type": "code",
   "execution_count": 73,
   "metadata": {},
   "outputs": [
    {
     "data": {
      "text/html": [
       "<div>\n",
       "<style scoped>\n",
       "    .dataframe tbody tr th:only-of-type {\n",
       "        vertical-align: middle;\n",
       "    }\n",
       "\n",
       "    .dataframe tbody tr th {\n",
       "        vertical-align: top;\n",
       "    }\n",
       "\n",
       "    .dataframe thead th {\n",
       "        text-align: right;\n",
       "    }\n",
       "</style>\n",
       "<table border=\"1\" class=\"dataframe\">\n",
       "  <thead>\n",
       "    <tr style=\"text-align: right;\">\n",
       "      <th></th>\n",
       "      <th>price</th>\n",
       "      <th>year</th>\n",
       "      <th>mileage</th>\n",
       "      <th>mpg</th>\n",
       "      <th>engineSize</th>\n",
       "      <th>tax</th>\n",
       "      <th>logprice</th>\n",
       "      <th>lp100</th>\n",
       "      <th>age</th>\n",
       "    </tr>\n",
       "  </thead>\n",
       "  <tbody>\n",
       "    <tr>\n",
       "      <th>count</th>\n",
       "      <td>438.000000</td>\n",
       "      <td>438.000000</td>\n",
       "      <td>438.000000</td>\n",
       "      <td>438.000000</td>\n",
       "      <td>438.000000</td>\n",
       "      <td>438.000000</td>\n",
       "      <td>438.000000</td>\n",
       "      <td>438.000000</td>\n",
       "      <td>438.000000</td>\n",
       "    </tr>\n",
       "    <tr>\n",
       "      <th>mean</th>\n",
       "      <td>14.682285</td>\n",
       "      <td>2017.212329</td>\n",
       "      <td>25.106171</td>\n",
       "      <td>58.724201</td>\n",
       "      <td>1.473744</td>\n",
       "      <td>96.803653</td>\n",
       "      <td>2.541854</td>\n",
       "      <td>5.108284</td>\n",
       "      <td>3.787671</td>\n",
       "    </tr>\n",
       "    <tr>\n",
       "      <th>std</th>\n",
       "      <td>7.745461</td>\n",
       "      <td>1.955602</td>\n",
       "      <td>25.037824</td>\n",
       "      <td>17.748425</td>\n",
       "      <td>0.423098</td>\n",
       "      <td>61.650174</td>\n",
       "      <td>0.548676</td>\n",
       "      <td>1.191943</td>\n",
       "      <td>1.955602</td>\n",
       "    </tr>\n",
       "    <tr>\n",
       "      <th>min</th>\n",
       "      <td>3.495000</td>\n",
       "      <td>2006.000000</td>\n",
       "      <td>1.201000</td>\n",
       "      <td>32.500000</td>\n",
       "      <td>1.000000</td>\n",
       "      <td>0.000000</td>\n",
       "      <td>1.251333</td>\n",
       "      <td>1.701687</td>\n",
       "      <td>1.000000</td>\n",
       "    </tr>\n",
       "    <tr>\n",
       "      <th>25%</th>\n",
       "      <td>7.781000</td>\n",
       "      <td>2016.000000</td>\n",
       "      <td>6.053500</td>\n",
       "      <td>50.400000</td>\n",
       "      <td>1.000000</td>\n",
       "      <td>20.000000</td>\n",
       "      <td>2.051684</td>\n",
       "      <td>4.400000</td>\n",
       "      <td>2.000000</td>\n",
       "    </tr>\n",
       "    <tr>\n",
       "      <th>50%</th>\n",
       "      <td>11.999000</td>\n",
       "      <td>2017.000000</td>\n",
       "      <td>17.526000</td>\n",
       "      <td>60.100000</td>\n",
       "      <td>1.500000</td>\n",
       "      <td>145.000000</td>\n",
       "      <td>2.484823</td>\n",
       "      <td>4.700166</td>\n",
       "      <td>4.000000</td>\n",
       "    </tr>\n",
       "    <tr>\n",
       "      <th>75%</th>\n",
       "      <td>20.990000</td>\n",
       "      <td>2019.000000</td>\n",
       "      <td>33.368000</td>\n",
       "      <td>64.200000</td>\n",
       "      <td>2.000000</td>\n",
       "      <td>145.000000</td>\n",
       "      <td>3.044046</td>\n",
       "      <td>5.604762</td>\n",
       "      <td>5.000000</td>\n",
       "    </tr>\n",
       "    <tr>\n",
       "      <th>max</th>\n",
       "      <td>38.990000</td>\n",
       "      <td>2020.000000</td>\n",
       "      <td>138.570000</td>\n",
       "      <td>166.000000</td>\n",
       "      <td>2.000000</td>\n",
       "      <td>265.000000</td>\n",
       "      <td>3.663305</td>\n",
       "      <td>8.691692</td>\n",
       "      <td>15.000000</td>\n",
       "    </tr>\n",
       "  </tbody>\n",
       "</table>\n",
       "</div>"
      ],
      "text/plain": [
       "            price         year     mileage         mpg  engineSize  \\\n",
       "count  438.000000   438.000000  438.000000  438.000000  438.000000   \n",
       "mean    14.682285  2017.212329   25.106171   58.724201    1.473744   \n",
       "std      7.745461     1.955602   25.037824   17.748425    0.423098   \n",
       "min      3.495000  2006.000000    1.201000   32.500000    1.000000   \n",
       "25%      7.781000  2016.000000    6.053500   50.400000    1.000000   \n",
       "50%     11.999000  2017.000000   17.526000   60.100000    1.500000   \n",
       "75%     20.990000  2019.000000   33.368000   64.200000    2.000000   \n",
       "max     38.990000  2020.000000  138.570000  166.000000    2.000000   \n",
       "\n",
       "              tax    logprice       lp100         age  \n",
       "count  438.000000  438.000000  438.000000  438.000000  \n",
       "mean    96.803653    2.541854    5.108284    3.787671  \n",
       "std     61.650174    0.548676    1.191943    1.955602  \n",
       "min      0.000000    1.251333    1.701687    1.000000  \n",
       "25%     20.000000    2.051684    4.400000    2.000000  \n",
       "50%    145.000000    2.484823    4.700166    4.000000  \n",
       "75%    145.000000    3.044046    5.604762    5.000000  \n",
       "max    265.000000    3.663305    8.691692   15.000000  "
      ]
     },
     "execution_count": 73,
     "metadata": {},
     "output_type": "execute_result"
    }
   ],
   "source": [
    "import pandas as pd\n",
    "import numpy as np\n",
    "from scipy import stats\n",
    "from statsmodels.formula.api import ols\n",
    "import matplotlib.pyplot as plt\n",
    "import seaborn as sns\n",
    "\n",
    "\n",
    "df = pd.read_csv(\"./data/vwcars.csv\") \n",
    "\n",
    "df[\"logprice\"] = np.log(df[\"price\"])\n",
    "df[\"lp100\"] = 282.48 / df[\"mpg\"]\n",
    "df[\"age\"] = 2021 - df[\"year\"]\n",
    "df.describe()"
   ]
  },
  {
   "cell_type": "code",
   "execution_count": 52,
   "metadata": {},
   "outputs": [
    {
     "name": "stdout",
     "output_type": "stream",
     "text": [
      "                            OLS Regression Results                            \n",
      "==============================================================================\n",
      "Dep. Variable:                  price   R-squared:                       0.805\n",
      "Model:                            OLS   Adj. R-squared:                  0.802\n",
      "Method:                 Least Squares   F-statistic:                     355.9\n",
      "Date:                Sun, 19 Dec 2021   Prob (F-statistic):          1.14e-150\n",
      "Time:                        13:03:03   Log-Likelihood:                -1160.0\n",
      "No. Observations:                 438   AIC:                             2332.\n",
      "Df Residuals:                     432   BIC:                             2357.\n",
      "Df Model:                           5                                         \n",
      "Covariance Type:            nonrobust                                         \n",
      "==============================================================================\n",
      "                 coef    std err          t      P>|t|      [0.025      0.975]\n",
      "------------------------------------------------------------------------------\n",
      "Intercept     -1.1921      1.274     -0.936      0.350      -3.697       1.312\n",
      "mileage       -0.0594      0.010     -5.872      0.000      -0.079      -0.039\n",
      "engineSize     8.3012      0.448     18.538      0.000       7.421       9.181\n",
      "tax            0.0067      0.004      1.640      0.102      -0.001       0.015\n",
      "lp100          1.8652      0.181     10.306      0.000       1.510       2.221\n",
      "age           -1.3325      0.136     -9.779      0.000      -1.600      -1.065\n",
      "==============================================================================\n",
      "Omnibus:                      132.581   Durbin-Watson:                   1.765\n",
      "Prob(Omnibus):                  0.000   Jarque-Bera (JB):              482.335\n",
      "Skew:                           1.335   Prob(JB):                    1.83e-105\n",
      "Kurtosis:                       7.393   Cond. No.                         906.\n",
      "==============================================================================\n",
      "\n",
      "Notes:\n",
      "[1] Standard Errors assume that the covariance matrix of the errors is correctly specified.\n"
     ]
    }
   ],
   "source": [
    "# estimate the two linear models:\n",
    "\n",
    "model = ols(\"price ~ mileage + engineSize + tax + lp100 + age\", df).fit()\n",
    "print(model.summary())\n"
   ]
  },
  {
   "cell_type": "code",
   "execution_count": 53,
   "metadata": {},
   "outputs": [
    {
     "name": "stdout",
     "output_type": "stream",
     "text": [
      "                            OLS Regression Results                            \n",
      "==============================================================================\n",
      "Dep. Variable:               logprice   R-squared:                       0.832\n",
      "Model:                            OLS   Adj. R-squared:                  0.830\n",
      "Method:                 Least Squares   F-statistic:                     428.8\n",
      "Date:                Sun, 19 Dec 2021   Prob (F-statistic):          5.77e-165\n",
      "Time:                        13:03:03   Log-Likelihood:                 32.957\n",
      "No. Observations:                 438   AIC:                            -53.91\n",
      "Df Residuals:                     432   BIC:                            -29.42\n",
      "Df Model:                           5                                         \n",
      "Covariance Type:            nonrobust                                         \n",
      "==============================================================================\n",
      "                 coef    std err          t      P>|t|      [0.025      0.975]\n",
      "------------------------------------------------------------------------------\n",
      "Intercept      1.7947      0.084     21.458      0.000       1.630       1.959\n",
      "mileage       -0.0046      0.001     -6.932      0.000      -0.006      -0.003\n",
      "engineSize     0.6614      0.029     22.504      0.000       0.604       0.719\n",
      "tax            0.0007      0.000      2.786      0.006       0.000       0.001\n",
      "lp100          0.0531      0.012      4.474      0.000       0.030       0.076\n",
      "age           -0.1204      0.009    -13.462      0.000      -0.138      -0.103\n",
      "==============================================================================\n",
      "Omnibus:                       57.250   Durbin-Watson:                   1.603\n",
      "Prob(Omnibus):                  0.000   Jarque-Bera (JB):               93.565\n",
      "Skew:                           0.813   Prob(JB):                     4.81e-21\n",
      "Kurtosis:                       4.576   Cond. No.                         906.\n",
      "==============================================================================\n",
      "\n",
      "Notes:\n",
      "[1] Standard Errors assume that the covariance matrix of the errors is correctly specified.\n"
     ]
    }
   ],
   "source": [
    "model = ols(\"logprice ~ mileage + engineSize + tax + lp100 + age\", df).fit()\n",
    "print(model.summary())\n"
   ]
  },
  {
   "cell_type": "code",
   "execution_count": 54,
   "metadata": {},
   "outputs": [],
   "source": [
    "# comparison:\n",
    "# model with logprice has better R² 0.832 vs 0.805\n"
   ]
  },
  {
   "cell_type": "code",
   "execution_count": 55,
   "metadata": {},
   "outputs": [
    {
     "name": "stdout",
     "output_type": "stream",
     "text": [
      "All Models to consider for Subset selection:\n",
      "\n",
      " number of predictors: 1\n",
      "\n",
      "logprice ~ age\n",
      "logprice ~ engineSize\n",
      "logprice ~ lp100\n",
      "logprice ~ mileage\n",
      "logprice ~ tax\n",
      "\n",
      " number of predictors: 2\n",
      "\n",
      "logprice ~ age + engineSize\n",
      "logprice ~ age + lp100\n",
      "logprice ~ age + mileage\n",
      "logprice ~ age + tax\n",
      "logprice ~ engineSize + lp100\n",
      "logprice ~ engineSize + mileage\n",
      "logprice ~ engineSize + tax\n",
      "logprice ~ lp100 + mileage\n",
      "logprice ~ lp100 + tax\n",
      "logprice ~ mileage + tax\n",
      "\n",
      " number of predictors: 3\n",
      "\n",
      "logprice ~ age + engineSize + lp100\n",
      "logprice ~ age + engineSize + mileage\n",
      "logprice ~ age + engineSize + tax\n",
      "logprice ~ age + lp100 + mileage\n",
      "logprice ~ age + lp100 + tax\n",
      "logprice ~ age + mileage + tax\n",
      "logprice ~ engineSize + lp100 + mileage\n",
      "logprice ~ engineSize + lp100 + tax\n",
      "logprice ~ engineSize + mileage + tax\n",
      "logprice ~ lp100 + mileage + tax\n",
      "\n",
      " number of predictors: 4\n",
      "\n",
      "logprice ~ age + engineSize + lp100 + mileage\n",
      "logprice ~ age + engineSize + lp100 + tax\n",
      "logprice ~ age + engineSize + mileage + tax\n",
      "logprice ~ age + lp100 + mileage + tax\n",
      "logprice ~ engineSize + lp100 + mileage + tax\n",
      "\n",
      " number of predictors: 5\n",
      "\n",
      "logprice ~ age + engineSize + lp100 + mileage + tax\n"
     ]
    }
   ],
   "source": [
    "# best subset selection:\n",
    "from sympy.utilities.iterables import multiset_combinations\n",
    "y = \"logprice\"\n",
    "vars = [\"mileage\",\"engineSize\",\"tax\",\"lp100\", \"age\" ]\n",
    "allvarcombinations = [None, \n",
    "list(multiset_combinations(vars,1)),\n",
    "list(multiset_combinations(vars,2)),\n",
    "list(multiset_combinations(vars,3)),\n",
    "list(multiset_combinations(vars,4)),\n",
    "list(multiset_combinations(vars,5))]\n",
    "models = []\n",
    "# models with one predictor:\n",
    "print(\"All Models to consider for Subset selection:\")\n",
    "for i in range(1,6):\n",
    "    print(\"\\n number of predictors: \" + str(i) + \"\\n\")\n",
    "    combs = allvarcombinations[i]\n",
    "    for c in combs:\n",
    "        modelformula = y + \" ~ \" + \" + \".join(c)\n",
    "        models.append({\"i\": i, \"formula\": modelformula, \"model\": None})\n",
    "        print(modelformula)\n"
   ]
  },
  {
   "cell_type": "code",
   "execution_count": 56,
   "metadata": {},
   "outputs": [
    {
     "name": "stdout",
     "output_type": "stream",
     "text": [
      "[{'i': 1, 'formula': 'logprice ~ age', 'model': <statsmodels.regression.linear_model.RegressionResultsWrapper object at 0x0000027152DF8CD0>, 'AIC': 358.5234128593049, 'BIC': 366.6878506800578}, {'i': 1, 'formula': 'logprice ~ engineSize', 'model': <statsmodels.regression.linear_model.RegressionResultsWrapper object at 0x000002714EB73A30>, 'AIC': 558.6594106996095, 'BIC': 566.8238485203624}, {'i': 1, 'formula': 'logprice ~ lp100', 'model': <statsmodels.regression.linear_model.RegressionResultsWrapper object at 0x0000027152DE28E0>, 'AIC': 512.9364737033646, 'BIC': 521.1009115241176}, {'i': 1, 'formula': 'logprice ~ mileage', 'model': <statsmodels.regression.linear_model.RegressionResultsWrapper object at 0x0000027152DFCC10>, 'AIC': 600.6570472932226, 'BIC': 608.8214851139755}, {'i': 1, 'formula': 'logprice ~ tax', 'model': <statsmodels.regression.linear_model.RegressionResultsWrapper object at 0x0000027152E02880>, 'AIC': 488.36623936255853, 'BIC': 496.5306771833114}, {'i': 2, 'formula': 'logprice ~ age + engineSize', 'model': <statsmodels.regression.linear_model.RegressionResultsWrapper object at 0x0000027152DF43A0>, 'AIC': 58.46063583089153, 'BIC': 70.70729256202087}, {'i': 2, 'formula': 'logprice ~ age + lp100', 'model': <statsmodels.regression.linear_model.RegressionResultsWrapper object at 0x0000027152E07430>, 'AIC': 293.8899565600815, 'BIC': 306.13661329121084}, {'i': 2, 'formula': 'logprice ~ age + mileage', 'model': <statsmodels.regression.linear_model.RegressionResultsWrapper object at 0x0000027152E129A0>, 'AIC': 360.45716957903664, 'BIC': 372.703826310166}, {'i': 2, 'formula': 'logprice ~ age + tax', 'model': <statsmodels.regression.linear_model.RegressionResultsWrapper object at 0x0000027152E179D0>, 'AIC': 339.53343256689186, 'BIC': 351.7800892980212}, {'i': 2, 'formula': 'logprice ~ engineSize + lp100', 'model': <statsmodels.regression.linear_model.RegressionResultsWrapper object at 0x0000027152E1D2E0>, 'AIC': 363.42793934148426, 'BIC': 375.6745960726136}, {'i': 2, 'formula': 'logprice ~ engineSize + mileage', 'model': <statsmodels.regression.linear_model.RegressionResultsWrapper object at 0x0000027152E21190>, 'AIC': 211.06915279934242, 'BIC': 223.31580953047177}, {'i': 2, 'formula': 'logprice ~ engineSize + tax', 'model': <statsmodels.regression.linear_model.RegressionResultsWrapper object at 0x0000027152E28D60>, 'AIC': 269.06451518066456, 'BIC': 281.3111719117939}, {'i': 2, 'formula': 'logprice ~ lp100 + mileage', 'model': <statsmodels.regression.linear_model.RegressionResultsWrapper object at 0x0000027152E9DF40>, 'AIC': 483.3926966044771, 'BIC': 495.6393533356065}, {'i': 2, 'formula': 'logprice ~ lp100 + tax', 'model': <statsmodels.regression.linear_model.RegressionResultsWrapper object at 0x0000027152E2E1F0>, 'AIC': 407.237301394445, 'BIC': 419.48395812557436}, {'i': 2, 'formula': 'logprice ~ mileage + tax', 'model': <statsmodels.regression.linear_model.RegressionResultsWrapper object at 0x0000027152D0FB80>, 'AIC': 476.7168814602767, 'BIC': 488.96353819140603}, {'i': 3, 'formula': 'logprice ~ age + engineSize + lp100', 'model': <statsmodels.regression.linear_model.RegressionResultsWrapper object at 0x0000027152D0FD60>, 'AIC': 5.219248604116956, 'BIC': 21.54812424562274}, {'i': 3, 'formula': 'logprice ~ age + engineSize + mileage', 'model': <statsmodels.regression.linear_model.RegressionResultsWrapper object at 0x0000027152D1A910>, 'AIC': -25.641701463431446, 'BIC': -9.31282582192566}, {'i': 3, 'formula': 'logprice ~ age + engineSize + tax', 'model': <statsmodels.regression.linear_model.RegressionResultsWrapper object at 0x0000027152E4F130>, 'AIC': 28.953662193542186, 'BIC': 45.282537835047975}, {'i': 3, 'formula': 'logprice ~ age + lp100 + mileage', 'model': <statsmodels.regression.linear_model.RegressionResultsWrapper object at 0x0000027152E3F220>, 'AIC': 292.54313292973234, 'BIC': 308.8720085712381}, {'i': 3, 'formula': 'logprice ~ age + lp100 + tax', 'model': <statsmodels.regression.linear_model.RegressionResultsWrapper object at 0x0000027152E3FC10>, 'AIC': 287.861704824697, 'BIC': 304.19058046620273}, {'i': 3, 'formula': 'logprice ~ age + mileage + tax', 'model': <statsmodels.regression.linear_model.RegressionResultsWrapper object at 0x0000027152EB1A00>, 'AIC': 340.74631863510103, 'BIC': 357.0751942766068}, {'i': 3, 'formula': 'logprice ~ engineSize + lp100 + mileage', 'model': <statsmodels.regression.linear_model.RegressionResultsWrapper object at 0x0000027152E53940>, 'AIC': 166.4590948591524, 'BIC': 182.7879705006582}, {'i': 3, 'formula': 'logprice ~ engineSize + lp100 + tax', 'model': <statsmodels.regression.linear_model.RegressionResultsWrapper object at 0x0000027152E58CA0>, 'AIC': 201.35783042382081, 'BIC': 217.6867060653266}, {'i': 3, 'formula': 'logprice ~ engineSize + mileage + tax', 'model': <statsmodels.regression.linear_model.RegressionResultsWrapper object at 0x0000027150BFD4C0>, 'AIC': 120.74939758318533, 'BIC': 137.07827322469112}, {'i': 3, 'formula': 'logprice ~ lp100 + mileage + tax', 'model': <statsmodels.regression.linear_model.RegressionResultsWrapper object at 0x0000027152E83AC0>, 'AIC': 406.99048746350206, 'BIC': 423.3193631050078}, {'i': 4, 'formula': 'logprice ~ age + engineSize + lp100 + mileage', 'model': <statsmodels.regression.linear_model.RegressionResultsWrapper object at 0x0000027152E8D2E0>, 'AIC': -48.1132671600119, 'BIC': -27.70217260812967}, {'i': 4, 'formula': 'logprice ~ age + engineSize + lp100 + tax', 'model': <statsmodels.regression.linear_model.RegressionResultsWrapper object at 0x0000027152E61EE0>, 'AIC': -9.724259911041145, 'BIC': 10.686834640841088}, {'i': 4, 'formula': 'logprice ~ age + engineSize + mileage + tax', 'model': <statsmodels.regression.linear_model.RegressionResultsWrapper object at 0x0000027152DFCDF0>, 'AIC': -36.07608576813823, 'BIC': -15.664991216255995}, {'i': 4, 'formula': 'logprice ~ age + lp100 + mileage + tax', 'model': <statsmodels.regression.linear_model.RegressionResultsWrapper object at 0x0000027152E12490>, 'AIC': 283.88034191439715, 'BIC': 304.2914364662794}, {'i': 4, 'formula': 'logprice ~ engineSize + lp100 + mileage + tax', 'model': <statsmodels.regression.linear_model.RegressionResultsWrapper object at 0x000002714EBB2280>, 'AIC': 97.52699735511897, 'BIC': 117.9380919070012}, {'i': 5, 'formula': 'logprice ~ age + engineSize + lp100 + mileage + tax', 'model': <statsmodels.regression.linear_model.RegressionResultsWrapper object at 0x0000027152E492E0>, 'AIC': -53.914542564533576, 'BIC': -29.4212291022749}]\n"
     ]
    }
   ],
   "source": [
    "# calulate models:\n",
    "for m in models:\n",
    "    mod = ols(m[\"formula\"], df).fit()\n",
    "    m[\"model\"] = mod\n",
    "    m[\"AIC\"] = m[\"model\"].aic\n",
    "    m[\"BIC\"]= m[\"model\"].bic\n",
    "print(models)"
   ]
  },
  {
   "cell_type": "code",
   "execution_count": 57,
   "metadata": {},
   "outputs": [
    {
     "name": "stdout",
     "output_type": "stream",
     "text": [
      "Models suggested by AIC\n",
      "['', 358.5234128593049, 58.46063583089153, -25.641701463431446, -48.1132671600119, -53.914542564533576]\n",
      "Models suggested by BIC\n",
      "['', 366.6878506800578, 70.70729256202087, -9.31282582192566, -27.70217260812967, -29.4212291022749]\n"
     ]
    },
    {
     "data": {
      "text/plain": [
       "\"\\n\\nAICS: ['', 358.5234128593049, 58.46063583089153, -25.641701463431446, -48.1132671600119, -53.914542564533576]\\nBICS: ['', 366.6878506800578, 70.70729256202087, -9.31282582192566, -27.70217260812967, -29.4212291022749]\\n\\nlogprice ~ age\\nlogprice ~ age + engineSize\\nlogprice ~ age + engineSize + mileage\\nlogprice ~ age + engineSize + mileage + lp100 \\nlogprice ~ age + engineSize + mileage + lp100 + tax\\n\\n\""
      ]
     },
     "execution_count": 57,
     "metadata": {},
     "output_type": "execute_result"
    }
   ],
   "source": [
    "# select best model for each number of predictors:\n",
    "bestmodelsBIC = [None]*6\n",
    "bestmodelsAIC =  [None]*6\n",
    "for i in range(1,6):\n",
    "    imodels = list(filter(lambda m: m[\"i\"] == i,models))\n",
    "    bicmin = 100000000000\n",
    "    aicmin = 100000000000\n",
    "    for m in imodels:\n",
    "        if(m[\"AIC\"] < aicmin):\n",
    "            aicmin = m[\"AIC\"]\n",
    "            bestmodelsAIC[i] = m\n",
    "        if(m[\"BIC\"] < bicmin):\n",
    "            bicmin = m[\"BIC\"]\n",
    "            bestmodelsBIC[i] = m\n",
    "        \n",
    "print(\"Models suggested by AIC\")\n",
    "print([m[\"AIC\"] if m != None else \"\" for m in bestmodelsAIC])\n",
    "print(\"Models suggested by BIC\")\n",
    "print([m[\"BIC\"] if m != None else \"\" for m in bestmodelsBIC])\n",
    "\n",
    "# as expected both AIC and BIC give the same models for each number of predictors.\n",
    "# they are:\n",
    "\n",
    "\"\"\"\n",
    "\n",
    "AICS: ['', 358.5234128593049, 58.46063583089153, -25.641701463431446, -48.1132671600119, -53.914542564533576]\n",
    "BICS: ['', 366.6878506800578, 70.70729256202087, -9.31282582192566, -27.70217260812967, -29.4212291022749]\n",
    "\n",
    "logprice ~ age\n",
    "logprice ~ age + engineSize\n",
    "logprice ~ age + engineSize + mileage\n",
    "logprice ~ age + engineSize + mileage + lp100 \n",
    "logprice ~ age + engineSize + mileage + lp100 + tax\n",
    "\n",
    "\"\"\"  \n",
    "\n",
    "# best model is the model with the 3 predictors, according to AIC and BIC\n"
   ]
  },
  {
   "cell_type": "code",
   "execution_count": 75,
   "metadata": {},
   "outputs": [
    {
     "name": "stdout",
     "output_type": "stream",
     "text": [
      "                            OLS Regression Results                            \n",
      "==============================================================================\n",
      "Dep. Variable:               logprice   R-squared:                       0.819\n",
      "Model:                            OLS   Adj. R-squared:                  0.818\n",
      "Method:                 Least Squares   F-statistic:                     656.7\n",
      "Date:                Sun, 19 Dec 2021   Prob (F-statistic):          7.00e-161\n",
      "Time:                        13:34:59   Log-Likelihood:                 16.821\n",
      "No. Observations:                 438   AIC:                            -25.64\n",
      "Df Residuals:                     434   BIC:                            -9.313\n",
      "Df Model:                           3                                         \n",
      "Covariance Type:            nonrobust                                         \n",
      "==============================================================================\n",
      "                 coef    std err          t      P>|t|      [0.025      0.975]\n",
      "------------------------------------------------------------------------------\n",
      "Intercept      2.1756      0.053     41.201      0.000       2.072       2.279\n",
      "age           -0.1410      0.008    -17.734      0.000      -0.157      -0.125\n",
      "engineSize     0.7152      0.029     24.874      0.000       0.659       0.772\n",
      "mileage       -0.0061      0.001     -9.710      0.000      -0.007      -0.005\n",
      "==============================================================================\n",
      "Omnibus:                       19.258   Durbin-Watson:                   1.537\n",
      "Prob(Omnibus):                  0.000   Jarque-Bera (JB):               20.597\n",
      "Skew:                           0.521   Prob(JB):                     3.37e-05\n",
      "Kurtosis:                       3.210   Cond. No.                         188.\n",
      "==============================================================================\n",
      "\n",
      "Notes:\n",
      "[1] Standard Errors assume that the covariance matrix of the errors is correctly specified.\n"
     ]
    }
   ],
   "source": [
    "# best model:\n",
    "\n",
    "model = ols(\"logprice ~ age + engineSize + mileage\", df)\n",
    "modelfit = model.fit()\n",
    "\n",
    "\"\"\"\n",
    "model parameters:\n",
    "                coef\tstd err\tt\t    P>|t|\t[0.025\t0.975]\n",
    "Intercept\t    2.1756\t0.053\t41.201\t0.000\t2.072\t2.279\n",
    "age\t            -0.1410\t0.008\t-17.734\t0.000\t-0.157\t-0.125\n",
    "engineSize\t    0.7152\t0.029\t24.874\t0.000\t0.659\t0.772\n",
    "mileage\t        -0.0061\t0.001\t-9.710\t0.000\t-0.007\t-0.005\n",
    "\n",
    "\"\"\"\n",
    "\n",
    "print(modelfit.summary())\n"
   ]
  },
  {
   "cell_type": "code",
   "execution_count": 87,
   "metadata": {},
   "outputs": [
    {
     "data": {
      "image/png": "[encoded data removed]",
      "text/plain": [
       "<Figure size 432x288 with 1 Axes>"
      ]
     },
     "metadata": {
      "needs_background": "light"
     },
     "output_type": "display_data"
    },
    {
     "data": {
      "image/png": "[encoded data removed]",
      "text/plain": [
       "<Figure size 432x288 with 1 Axes>"
      ]
     },
     "metadata": {
      "needs_background": "light"
     },
     "output_type": "display_data"
    },
    {
     "name": "stdout",
     "output_type": "stream",
     "text": [
      "2.2530866061742927e-12\n"
     ]
    }
   ],
   "source": [
    "from statsmodels.graphics.regressionplots import abline_plot\n",
    "# prediction plot\n",
    "y = df[\"logprice\"]\n",
    "df[\"logprice_pred\"] = modelfit.predict(df)\n",
    "df[\"residuals\"] = df[\"logprice_pred\"] - df[\"logprice\"]\n",
    "# scatter-plot regression\n",
    "ax = df.plot(x='logprice', y='logprice_pred', kind='scatter')\n",
    "abline_plot(model_results=ols(\"logprice_pred ~ logprice\", df).fit(), ax=ax, color=\"red\")\n",
    "plt.show()\n",
    "\n",
    "# scatter-plot residuals\n",
    "\n",
    "ax = df.plot(x='logprice', y='residuals', kind='scatter')\n",
    "abline_plot(model_results=ols(\"residuals ~ logprice\", df).fit(), ax=ax, color=\"red\")\n",
    "plt.show()\n",
    "\n",
    "# residuals sum up to 0 but are not uncorrelated with logprice. Therefore no good model fit yet."
   ]
  },
  {
   "cell_type": "code",
   "execution_count": 92,
   "metadata": {},
   "outputs": [
    {
     "data": {
      "image/png": "[encoded data removed]",
      "text/plain": [
       "<Figure size 432x288 with 1 Axes>"
      ]
     },
     "metadata": {
      "needs_background": "light"
     },
     "output_type": "display_data"
    }
   ],
   "source": [
    "# qq plot with normal distribution:\n",
    "linelimit = 3\n",
    "quantilecount = 100\n",
    "quantilesReal = []\n",
    "quantilesPredicted = []\n",
    "for i in range(quantilecount+1):\n",
    "    q = i/quantilecount\n",
    "    quantilesReal.append((np.quantile(df[\"logprice\"],q)))\n",
    "    quantilesPredicted.append((np.quantile(df[\"logprice_pred\"],q)))\n",
    "fig, ax = plt.subplots()\n",
    "ax.set_xlabel(\"Quantiles logprice\")\n",
    "ax.set_ylabel(\"Quantiles logprice_pred\")\n",
    "plt.scatter(x= quantilesReal, y=quantilesPredicted)\n",
    "plt.plot(quantilesReal, quantilesReal, color=\"red\")\n",
    "#plt.plot([-linelimit,linelimit],[-linelimit,linelimit])\n",
    "plt.show()"
   ]
  }
 ],
 "metadata": {
  "interpreter": {
   "hash": "19d3168e2b18ee5d42e69b8c916adfb0ac1c90a62f6384258b47cf1db3315834"
  },
  "kernelspec": {
   "display_name": "Python 3.9.2 64-bit ('venv': venv)",
   "language": "python",
   "name": "python3"
  },
  "language_info": {
   "codemirror_mode": {
    "name": "ipython",
    "version": 3
   },
   "file_extension": ".py",
   "mimetype": "text/x-python",
   "name": "python",
   "nbconvert_exporter": "python",
   "pygments_lexer": "ipython3",
   "version": "3.9.2"
  },
  "orig_nbformat": 4
 },
 "nbformat": 4,
 "nbformat_minor": 2
}
